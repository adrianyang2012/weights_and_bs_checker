{
  "nbformat": 4,
  "nbformat_minor": 0,
  "metadata": {
    "colab": {
      "private_outputs": true,
      "provenance": [],
      "authorship_tag": "ABX9TyPpCeL6b5ZI16ZFzl71B7so",
      "include_colab_link": true
    },
    "kernelspec": {
      "name": "python3",
      "display_name": "Python 3"
    },
    "language_info": {
      "name": "python"
    }
  },
  "cells": [
    {
      "cell_type": "markdown",
      "metadata": {
        "id": "view-in-github",
        "colab_type": "text"
      },
      "source": [
        "<a href=\"https://colab.research.google.com/github/adrianyang2012/weights_and_bs_checker/blob/main/weights_and_bs_checker.ipynb\" target=\"_parent\"><img src=\"https://colab.research.google.com/assets/colab-badge.svg\" alt=\"Open In Colab\"/></a>"
      ]
    },
    {
      "cell_type": "code",
      "execution_count": null,
      "metadata": {
        "id": "IUM3vSlnLpe5"
      },
      "outputs": [],
      "source": [
        "import matplotlib.pyplot as plt\n",
        "\n",
        "w = 1\n",
        "b = 5\n",
        "times = 50\n",
        "graph = []\n",
        "for x in range(0,20):\n",
        "  for y in range(0,20):\n",
        "    plt.scatter(x*10,y*10)\n",
        "for x in range(0,times):\n",
        "  graph.append(x*w+b)\n",
        "plt.plot(graph)\n",
        "plt.title('overall graph')\n",
        "plt.show()\n",
        "graph2 = []\n",
        "check_beetween1 = int(input('what is the first number in the range you are checking'))\n",
        "check_beetween2 = int(input('what is the second number in the range you are checking'))\n",
        "for x in range(int(check_beetween1*0.5),int(check_beetween2*2)):\n",
        "  for y in range(int(check_beetween1*0.5),int(check_beetween2*2)):\n",
        "    plt.scatter(x,y)\n",
        "for x in range(check_beetween1,check_beetween2):\n",
        "  graph2.append(x*w+b)\n",
        "plt.plot([i for i in range(check_beetween1,check_beetween2)],graph2)\n",
        "plt.show()"
      ]
    }
  ]
}