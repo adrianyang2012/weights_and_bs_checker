{
  "nbformat": 4,
  "nbformat_minor": 0,
  "metadata": {
    "colab": {
      "private_outputs": true,
      "provenance": [],
      "authorship_tag": "ABX9TyN8bWotpMGT/pwB0PGft70G",
      "include_colab_link": true
    },
    "kernelspec": {
      "name": "python3",
      "display_name": "Python 3"
    },
    "language_info": {
      "name": "python"
    }
  },
  "cells": [
    {
      "cell_type": "markdown",
      "metadata": {
        "id": "view-in-github",
        "colab_type": "text"
      },
      "source": [
        "<a href=\"https://colab.research.google.com/github/adrianyang2012/weights_and_bs_checker/blob/main/weights_and_bs_checker.ipynb\" target=\"_parent\"><img src=\"https://colab.research.google.com/assets/colab-badge.svg\" alt=\"Open In Colab\"/></a>"
      ]
    },
    {
      "cell_type": "code",
      "execution_count": null,
      "metadata": {
        "id": "IUM3vSlnLpe5"
      },
      "outputs": [],
      "source": [
        "import matplotlib.pyplot as plt\n",
        "f = plt.figure()\n",
        "f.set_figheight(3)\n",
        "f.set_figwidth(12)\n",
        "check_beetween1 = int(input('what is the first number in the range you are checking'))\n",
        "check_beetween2 = int(input('what is the second number in the range you are checking'))\n",
        "w = 1.1\n",
        "b = 5\n",
        "times = 100\n",
        "graph = []\n",
        "for x in range(0,20):\n",
        "  for y in range(0,20):\n",
        "    plt.scatter(x*10,y*10)\n",
        "for x in range(0,times):\n",
        "  graph.append(x*w+b)\n",
        "plt.plot([0,0],[check_beetween1,check_beetween2])\n",
        "plt.plot([times,times],[check_beetween1,check_beetween2])\n",
        "plt.plot([0,times],[check_beetween1,check_beetween1])\n",
        "plt.plot([0,times],[check_beetween2,check_beetween2])\n",
        "plt.plot(graph)\n",
        "plt.title('overall graph')\n",
        "plt.show()\n",
        "f = plt.figure()\n",
        "f.set_figheight(3)\n",
        "f.set_figwidth(12)\n",
        "graph2 = []\n",
        "for x in range(0,int(times/10)):\n",
        "  for y in range(int(check_beetween1/10),int(check_beetween2/10)):\n",
        "    plt.scatter(x*10,y*10)\n",
        "for x in range(int(check_beetween1/w-b),int(check_beetween2/w-b)):\n",
        "  print(x)\n",
        "  graph2.append(x*w+b)\n",
        "plt.title('zoom in graph')\n",
        "plt.plot([i for i in range(int(check_beetween1/w-b),int(check_beetween2/w-b))],graph2)\n",
        "plt.show()"
      ]
    },
    {
      "cell_type": "code",
      "source": [
        "help(f)"
      ],
      "metadata": {
        "id": "cjEur7se6PKK"
      },
      "execution_count": null,
      "outputs": []
    },
    {
      "cell_type": "code",
      "source": [],
      "metadata": {
        "id": "sCM9ROesXJ-R"
      },
      "execution_count": null,
      "outputs": []
    }
  ]
}